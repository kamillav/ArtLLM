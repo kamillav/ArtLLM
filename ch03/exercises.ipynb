{
 "cells": [
  {
   "metadata": {},
   "cell_type": "markdown",
   "source": [
    "## Exercise 3.1: Comparing SelfAttention_v1 and SelfAttention_v2\n",
    "\n",
    "This exercise demonstrates the similarity between two self-attention implementations.\n",
    "\n",
    "- `SelfAttention_v1` uses manually initialized weight matrices via `nn.Parameter`.\n",
    "- `SelfAttention_v2` uses PyTorch’s `nn.Linear`, which stores weights in a transposed form internally.\n",
    "\n",
    "Even though the implementations are different, we can show they are functionally equivalent by copying the transposed weights from `SelfAttention_v2` into `SelfAttention_v1`. Once this is done correctly, both implementations will produce the same output for a given input.\n",
    "\n",
    "> Note: `nn.Linear` stores weights in shape `(d_out, d_in)`, whereas matrix multiplication in `SelfAttention_v1` expects `(d_in, d_out)`, hence we use `.T` when copying."
   ],
   "id": "b321e5f71ecf2ac4"
  },
  {
   "metadata": {
    "ExecuteTime": {
     "end_time": "2025-04-14T02:51:55.421311Z",
     "start_time": "2025-04-14T02:51:55.416302Z"
    }
   },
   "cell_type": "code",
   "source": [
    "from importlib.metadata import version\n",
    "\n",
    "import torch\n",
    "print(\"torch version:\", version(\"torch\"))\n",
    "\n",
    "inputs = torch.tensor(\n",
    "  [[0.43, 0.15, 0.89], # Your     (x^1)\n",
    "   [0.55, 0.87, 0.66], # journey  (x^2)\n",
    "   [0.57, 0.85, 0.64], # starts   (x^3)\n",
    "   [0.22, 0.58, 0.33], # with     (x^4)\n",
    "   [0.77, 0.25, 0.10], # one      (x^5)\n",
    "   [0.05, 0.80, 0.55]] # step     (x^6)\n",
    ")\n",
    "\n",
    "d_in, d_out = 3, 2"
   ],
   "id": "348834f5240ef5db",
   "outputs": [
    {
     "name": "stdout",
     "output_type": "stream",
     "text": [
      "torch version: 2.6.0\n"
     ]
    }
   ],
   "execution_count": 7
  },
  {
   "metadata": {
    "ExecuteTime": {
     "end_time": "2025-04-14T02:51:57.542509Z",
     "start_time": "2025-04-14T02:51:57.537194Z"
    }
   },
   "cell_type": "code",
   "source": [
    "import torch.nn as nn\n",
    "\n",
    "class SelfAttention_v1(nn.Module):\n",
    "\n",
    "    def __init__(self, d_in, d_out):\n",
    "        super().__init__()\n",
    "        self.d_out = d_out\n",
    "        self.W_query = nn.Parameter(torch.rand(d_in, d_out))\n",
    "        self.W_key   = nn.Parameter(torch.rand(d_in, d_out))\n",
    "        self.W_value = nn.Parameter(torch.rand(d_in, d_out))\n",
    "\n",
    "    def forward(self, x):\n",
    "        keys = x @ self.W_key\n",
    "        queries = x @ self.W_query\n",
    "        values = x @ self.W_value\n",
    "\n",
    "        attn_scores = queries @ keys.T # omega\n",
    "        attn_weights = torch.softmax(attn_scores / keys.shape[-1]**0.5, dim=-1)\n",
    "\n",
    "        context_vec = attn_weights @ values\n",
    "        return context_vec\n",
    "\n",
    "torch.manual_seed(123)\n",
    "sa_v1 = SelfAttention_v1(d_in, d_out)\n",
    "print(sa_v1(inputs))"
   ],
   "id": "a5dccb1227cb9d40",
   "outputs": [
    {
     "name": "stdout",
     "output_type": "stream",
     "text": [
      "tensor([[0.2996, 0.8053],\n",
      "        [0.3061, 0.8210],\n",
      "        [0.3058, 0.8203],\n",
      "        [0.2948, 0.7939],\n",
      "        [0.2927, 0.7891],\n",
      "        [0.2990, 0.8040]], grad_fn=<MmBackward0>)\n"
     ]
    }
   ],
   "execution_count": 8
  },
  {
   "metadata": {
    "ExecuteTime": {
     "end_time": "2025-04-14T02:51:59.890343Z",
     "start_time": "2025-04-14T02:51:59.882909Z"
    }
   },
   "cell_type": "code",
   "source": [
    "class SelfAttention_v2(nn.Module):\n",
    "\n",
    "    def __init__(self, d_in, d_out):\n",
    "        super().__init__()\n",
    "        self.d_out = d_out\n",
    "        self.W_query = nn.Linear(d_in, d_out, bias=False)\n",
    "        self.W_key   = nn.Linear(d_in, d_out, bias=False)\n",
    "        self.W_value = nn.Linear(d_in, d_out, bias=False)\n",
    "\n",
    "    def forward(self, x):\n",
    "        keys = self.W_key(x)\n",
    "        queries = self.W_query(x)\n",
    "        values = self.W_value(x)\n",
    "\n",
    "        attn_scores = queries @ keys.T\n",
    "        attn_weights = torch.softmax(attn_scores / keys.shape[-1]**0.5, dim=1)\n",
    "\n",
    "        context_vec = attn_weights @ values\n",
    "        return context_vec\n",
    "\n",
    "torch.manual_seed(123)\n",
    "sa_v2 = SelfAttention_v2(d_in, d_out)\n",
    "print(sa_v2(inputs))"
   ],
   "id": "33c6854ae9942f22",
   "outputs": [
    {
     "name": "stdout",
     "output_type": "stream",
     "text": [
      "tensor([[-0.5337, -0.1051],\n",
      "        [-0.5323, -0.1080],\n",
      "        [-0.5323, -0.1079],\n",
      "        [-0.5297, -0.1076],\n",
      "        [-0.5311, -0.1066],\n",
      "        [-0.5299, -0.1081]], grad_fn=<MmBackward0>)\n"
     ]
    }
   ],
   "execution_count": 9
  },
  {
   "metadata": {
    "ExecuteTime": {
     "end_time": "2025-04-14T02:52:06.156604Z",
     "start_time": "2025-04-14T02:52:06.151936Z"
    }
   },
   "cell_type": "code",
   "source": [
    "# Transfer weights from sa_v2 to sa_v1\n",
    "with torch.no_grad():\n",
    "    sa_v1.W_query.copy_(sa_v2.W_query.weight.T)\n",
    "    sa_v1.W_key.copy_(sa_v2.W_key.weight.T)\n",
    "    sa_v1.W_value.copy_(sa_v2.W_value.weight.T)\n",
    "\n",
    "# Verify outputs match\n",
    "out_v1 = sa_v1(inputs)\n",
    "out_v2 = sa_v2(inputs)\n",
    "\n",
    "print(\"Are outputs close?\", torch.allclose(out_v1, out_v2, atol=1e-6))"
   ],
   "id": "8ebb4e5dc96cec2a",
   "outputs": [
    {
     "name": "stdout",
     "output_type": "stream",
     "text": [
      "Are outputs close? True\n"
     ]
    }
   ],
   "execution_count": 10
  },
  {
   "metadata": {},
   "cell_type": "markdown",
   "source": [
    "## Exercise 3.2: Returning Two-Dimensional Embedding Vectors\n",
    "\n",
    "Here I ensure that the output of `MultiHeadAttentionWrapper` has a dimensionality of 2, while keeping the number of attention heads equal to 2.\n",
    "\n",
    "In multi-head attention, the `d_out` dimension is split equally among the heads:\n",
    "\\[\n",
    "d_k = \\frac{d_{\\text{out}}}{\\text{num_heads}}\n",
    "\\]\n",
    "\n",
    "To get an overall output of 2 dimensions with `num_heads = 2`, I  set `d_out = 2`, so each head has `d_k = 1`.\n",
    "\n",
    "This requires **no change to the class implementation** — I only modify the constructor:\n",
    "```python\n",
    "mha = MultiHeadAttentionWrapper(d_in=4, d_out=2, num_heads=2)"
   ],
   "id": "90d4c788cad613c0"
  },
  {
   "metadata": {
    "ExecuteTime": {
     "end_time": "2025-04-14T03:02:25.736624Z",
     "start_time": "2025-04-14T03:02:25.725968Z"
    }
   },
   "cell_type": "code",
   "source": [
    "# Define MultiHeadAttentionWrapper\n",
    "class MultiHeadAttentionWrapper(nn.Module):\n",
    "    def __init__(self, d_in, d_out, num_heads):\n",
    "        super().__init__()\n",
    "        assert d_out % num_heads == 0, \"d_out must be divisible by num_heads\"\n",
    "        self.num_heads = num_heads\n",
    "        self.d_k = d_out // num_heads\n",
    "\n",
    "        self.W_query = nn.Linear(d_in, d_out, bias=False)\n",
    "        self.W_key = nn.Linear(d_in, d_out, bias=False)\n",
    "        self.W_value = nn.Linear(d_in, d_out, bias=False)\n",
    "        self.fc_out = nn.Linear(d_out, d_out, bias=False)\n",
    "\n",
    "    def forward(self, x):\n",
    "        B, T, _ = x.shape  # Batch size, sequence length, d_in\n",
    "\n",
    "        # Linear projections\n",
    "        Q = self.W_query(x)  # (B, T, d_out)\n",
    "        K = self.W_key(x)\n",
    "        V = self.W_value(x)\n",
    "\n",
    "        # Split into heads\n",
    "        Q = Q.view(B, T, self.num_heads, self.d_k).transpose(1, 2)  # (B, num_heads, T, d_k)\n",
    "        K = K.view(B, T, self.num_heads, self.d_k).transpose(1, 2)\n",
    "        V = V.view(B, T, self.num_heads, self.d_k).transpose(1, 2)\n",
    "\n",
    "        # Attention mechanism\n",
    "        attn_scores = Q @ K.transpose(-2, -1) / (self.d_k ** 0.5)  # (B, num_heads, T, T)\n",
    "        attn_weights = torch.softmax(attn_scores, dim=-1)  # (B, num_heads, T, T)\n",
    "        context = attn_weights @ V  # (B, num_heads, T, d_k)\n",
    "\n",
    "        # Concatenate heads\n",
    "        context = context.transpose(1, 2).contiguous().view(B, T, self.num_heads * self.d_k)\n",
    "        return self.fc_out(context)\n",
    "\n",
    "\n",
    "# Create input tensor\n",
    "torch.manual_seed(42)\n",
    "inputs = torch.randn(1, 5, 4)  # (batch=1, seq_len=5, d_in=4)\n",
    "\n",
    "# Set d_out=2 with num_heads=2 to return 2-dimensional output\n",
    "mha = MultiHeadAttentionWrapper(d_in=4, d_out=2, num_heads=2)\n",
    "outputs = mha(inputs)\n",
    "\n",
    "# Check output shape\n",
    "print(\"Output shape:\", outputs.shape)\n",
    "print(\"Output:\", outputs)"
   ],
   "id": "c64771328eff5d14",
   "outputs": [
    {
     "name": "stdout",
     "output_type": "stream",
     "text": [
      "Output shape: torch.Size([1, 5, 2])\n",
      "Output: tensor([[[-0.0267, -0.0087],\n",
      "         [-0.0919, -0.0284],\n",
      "         [-0.0792, -0.0155],\n",
      "         [-0.0848, -0.0206],\n",
      "         [-0.0685, -0.0139]]], grad_fn=<UnsafeViewBackward0>)\n"
     ]
    }
   ],
   "execution_count": 12
  },
  {
   "metadata": {},
   "cell_type": "markdown",
   "source": [
    "## Exercise 3.3: Initializing GPT-2 Size Attention Modules\n",
    "\n",
    "In this task, we initialize a multi-head attention module that matches the smallest GPT-2 model configuration:\n",
    "\n",
    "- Number of attention heads: **12**\n",
    "- Hidden size (input/output embedding dimension): **768**\n",
    "- Context length supported: **1024 tokens**\n",
    "\n",
    "To achieve this, we initialize our `MultiHeadAttention` class with:\n",
    "```python\n",
    "mha = MultiHeadAttention(d_in=768, d_out=768, num_heads=12)"
   ],
   "id": "7971f558ee9b9202"
  },
  {
   "metadata": {
    "ExecuteTime": {
     "end_time": "2025-04-14T13:43:31.343032Z",
     "start_time": "2025-04-14T13:43:31.275292Z"
    }
   },
   "cell_type": "code",
   "source": [
    "\n",
    "class MultiHeadAttention(nn.Module):\n",
    "    def __init__(self, d_in, d_out, num_heads):\n",
    "        super().__init__()\n",
    "        assert d_out % num_heads == 0, \"d_out must be divisible by num_heads\"\n",
    "        self.num_heads = num_heads\n",
    "        self.d_k = d_out // num_heads\n",
    "\n",
    "        self.W_query = nn.Linear(d_in, d_out)\n",
    "        self.W_key = nn.Linear(d_in, d_out)\n",
    "        self.W_value = nn.Linear(d_in, d_out)\n",
    "        self.fc_out = nn.Linear(d_out, d_out)\n",
    "\n",
    "    def forward(self, x):\n",
    "        B, T, _ = x.shape  # Batch, Time (context), d_in\n",
    "\n",
    "        Q = self.W_query(x)\n",
    "        K = self.W_key(x)\n",
    "        V = self.W_value(x)\n",
    "\n",
    "        # Split into heads\n",
    "        Q = Q.view(B, T, self.num_heads, self.d_k).transpose(1, 2)\n",
    "        K = K.view(B, T, self.num_heads, self.d_k).transpose(1, 2)\n",
    "        V = V.view(B, T, self.num_heads, self.d_k).transpose(1, 2)\n",
    "\n",
    "        # Scaled dot-product attention\n",
    "        attn_scores = Q @ K.transpose(-2, -1) / self.d_k ** 0.5\n",
    "        attn_weights = torch.softmax(attn_scores, dim=-1)\n",
    "        context = attn_weights @ V\n",
    "\n",
    "        # Concatenate heads\n",
    "        context = context.transpose(1, 2).contiguous().view(B, T, self.num_heads * self.d_k)\n",
    "        return self.fc_out(context)\n",
    "\n",
    "\n",
    "# Initialize GPT-2 scale multi-head attention\n",
    "d_model = 768\n",
    "num_heads = 12\n",
    "context_len = 1024\n",
    "batch_size = 1\n",
    "\n",
    "# Dummy input: [batch_size, context_len, d_in]\n",
    "x = torch.randn(batch_size, context_len, d_model)\n",
    "\n",
    "# Initialize the attention module\n",
    "mha_gpt2 = MultiHeadAttention(d_in=d_model, d_out=d_model, num_heads=num_heads)\n",
    "output = mha_gpt2(x)\n",
    "\n",
    "print(\"Output shape:\", output.shape)  # Expected: [1, 1024, 768]"
   ],
   "id": "98ead29f98dbf685",
   "outputs": [
    {
     "name": "stdout",
     "output_type": "stream",
     "text": [
      "Output shape: torch.Size([1, 1024, 768])\n"
     ]
    }
   ],
   "execution_count": 13
  }
 ],
 "metadata": {
  "kernelspec": {
   "name": "python3",
   "language": "python",
   "display_name": "Python 3 (ipykernel)"
  }
 },
 "nbformat": 5,
 "nbformat_minor": 9
}
